{
 "cells": [
  {
   "cell_type": "markdown",
   "metadata": {},
   "source": [
    "**Домашнее задание **\n",
    "Задание 1\n",
    "Напишите функцию date_range, которая возвращает список дней между датами start_date и end_date. Даты должны вводиться в формате YYYY-MM-DD."
   ]
  },
  {
   "cell_type": "code",
   "execution_count": 30,
   "metadata": {},
   "outputs": [
    {
     "name": "stdout",
     "output_type": "stream",
     "text": [
      "['2019-12-31', '2020-01-01', '2020-01-02', '2020-01-03', '2020-01-04', '2020-01-05', '2020-01-06', '2020-01-07', '2020-01-08', '2020-01-09', '2020-01-10', '2020-01-11', '2020-01-12', '2020-01-13', '2020-01-14', '2020-01-15', '2020-01-16']\n"
     ]
    }
   ],
   "source": [
    "from datetime import datetime\n",
    "from datetime import timedelta\n",
    "\n",
    "def date_range(start_date, end_date):\n",
    "    start_date_dt = datetime.strptime(start_date, '%Y-%m-%d')\n",
    "    end_date_dt = datetime.strptime(end_date, '%Y-%m-%d')\n",
    "    \n",
    "    my_dates = []\n",
    "    cur_date = start_date_dt + timedelta(days=1)\n",
    "    while cur_date < end_date_dt:\n",
    "        my_dates.append(cur_date.strftime('%Y-%m-%d'))\n",
    "        cur_date += timedelta(days=1)\n",
    "    return my_dates\n",
    "    \n",
    "print(date_range('2019-12-30','2020-01-17'))"
   ]
  },
  {
   "cell_type": "markdown",
   "metadata": {},
   "source": [
    "Задание 2\n",
    "Дополните функцию из первого задания проверкой на корректность дат. В случае неверного формата или если start_date > end_date должен возвращаться пустой список."
   ]
  },
  {
   "cell_type": "code",
   "execution_count": 31,
   "metadata": {},
   "outputs": [
    {
     "name": "stdout",
     "output_type": "stream",
     "text": [
      "[]\n"
     ]
    },
    {
     "name": "stderr",
     "output_type": "stream",
     "text": [
      "Traceback (most recent call last):\n",
      "  File \"<ipython-input-31-37bd77dad1c7>\", line 8, in date_range\n",
      "    end_date_dt = datetime.strptime(end_date, '%Y-%m-%d')\n",
      "  File \"D:\\Python\\Anaconda3\\lib\\_strptime.py\", line 577, in _strptime_datetime\n",
      "    tt, fraction, gmtoff_fraction = _strptime(data_string, format)\n",
      "  File \"D:\\Python\\Anaconda3\\lib\\_strptime.py\", line 362, in _strptime\n",
      "    data_string[found.end():])\n",
      "ValueError: unconverted data remains: T\n"
     ]
    }
   ],
   "source": [
    "from datetime import datetime\n",
    "from datetime import timedelta\n",
    "import traceback\n",
    "\n",
    "def date_range(start_date, end_date):\n",
    "    try:\n",
    "        start_date_dt = datetime.strptime(start_date, '%Y-%m-%d')\n",
    "        end_date_dt = datetime.strptime(end_date, '%Y-%m-%d')\n",
    "    except ValueError:\n",
    "        traceback.print_exc()\n",
    "        return []\n",
    "       \n",
    "    if start_date_dt > end_date_dt:\n",
    "        return []\n",
    "    \n",
    "    my_dates = []\n",
    "    cur_date = start_date_dt + timedelta(days=1)\n",
    "    while cur_date < end_date_dt:\n",
    "        my_dates.append(cur_date.strftime('%Y-%m-%d'))\n",
    "        cur_date += timedelta(days=1)\n",
    "    return my_dates\n",
    "    \n",
    "print(date_range('2019-12-30','2020-01-17T'))"
   ]
  },
  {
   "cell_type": "markdown",
   "metadata": {},
   "source": [
    "Задание 3\n",
    "Дан поток дат в формате YYYY-MM-DD, в которых встречаются некорректные значения:\n",
    "stream = [‘2018-04-02’, ‘2018-02-29’, ‘2018-19-02’]\n",
    "\n",
    "Напишите функцию, которая проверяет эти даты на корректность. Т. е. для каждой даты возвращает True (дата корректна) или False (некорректная дата)."
   ]
  },
  {
   "cell_type": "code",
   "execution_count": 32,
   "metadata": {},
   "outputs": [
    {
     "name": "stdout",
     "output_type": "stream",
     "text": [
      "Проверка корректности даты для 2018-04-02 = True\n",
      "Проверка корректности даты для 2018-02-29 = False\n",
      "Проверка корректности даты для 2018-19-02 = False\n"
     ]
    }
   ],
   "source": [
    "from datetime import datetime\n",
    "\n",
    "def check_dates(str_date):\n",
    "    try:\n",
    "        datetime.strptime(str_date, '%Y-%m-%d')\n",
    "        return True\n",
    "    except:\n",
    "        return False\n",
    "\n",
    "stream_ = ['2018-04-02', '2018-02-29', '2018-19-02']\n",
    "for date_ in stream_:\n",
    "    print(f'Проверка корректности даты для {date_} = {check_dates(date_)}')"
   ]
  },
  {
   "cell_type": "markdown",
   "metadata": {},
   "source": [
    "Задание 4 (бонусное)\n",
    "Ваш коллега прислал код функции:\n",
    "...\n",
    "При однократном вызове этой функции все работает корректно:\n",
    "Однако, при повторном вызове получается ошибка IndexError: list index out of range.\n",
    "Задание:\n",
    "    Что значит ошибка list index out of range?\n",
    "    Почему при первом запуске функция работает корректно, а при втором - нет?"
   ]
  },
  {
   "cell_type": "code",
   "execution_count": 33,
   "metadata": {},
   "outputs": [
    {
     "name": "stdout",
     "output_type": "stream",
     "text": [
      "['A100', 'A101', 'A102']\n",
      "A101\n",
      "['A100', 'A101']\n",
      "A100\n"
     ]
    }
   ],
   "source": [
    "DEFAULT_USER_COUNT = 3\n",
    "\n",
    "def delete_and_return_last_user(region, default_list=['A100', 'A101', 'A102']):\n",
    "    \"\"\"\n",
    "    Удаляет из списка default_list последнего пользователя\n",
    "    и возвращает ID нового последнего пользователя.\n",
    "    \"\"\"\n",
    "    print(default_list)\n",
    "    element_to_delete = default_list[-1]\n",
    "    default_list.remove(element_to_delete)\n",
    "    \n",
    "    # ошибочный код\n",
    "    #return default_list[DEFAULT_USER_COUNT-2]\n",
    "    # код для исправления\n",
    "    return default_list[-1]\n",
    "    \n",
    "print(delete_and_return_last_user(1))\n",
    "print(delete_and_return_last_user(1))"
   ]
  },
  {
   "cell_type": "markdown",
   "metadata": {},
   "source": [
    "Ответ: 1. Ошибка \"list index out of range\" означает, что при обращении к списку указан номер индекса, которого находится за пределами списка или, проще говоря, не существует. 2. При первом запуске нет ошибки, а при повторном запуске ошибка, т.к. в строке \"return default_list[DEFAULT_USER_COUNT-2]\" используется глобальная переменная DEFAULT_USER_COUNT = 3. Но при втором запуске функции элемент уже удален и ссылка на него приводит к ошибке. Ошибку можно устранить строкой \"return default_list[-1]\"."
   ]
  },
  {
   "cell_type": "code",
   "execution_count": null,
   "metadata": {},
   "outputs": [],
   "source": []
  }
 ],
 "metadata": {
  "kernelspec": {
   "display_name": "Python 3",
   "language": "python",
   "name": "python3"
  },
  "language_info": {
   "codemirror_mode": {
    "name": "ipython",
    "version": 3
   },
   "file_extension": ".py",
   "mimetype": "text/x-python",
   "name": "python",
   "nbconvert_exporter": "python",
   "pygments_lexer": "ipython3",
   "version": "3.7.1"
  }
 },
 "nbformat": 4,
 "nbformat_minor": 2
}
